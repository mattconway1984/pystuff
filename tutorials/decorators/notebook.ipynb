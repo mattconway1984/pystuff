{
 "cells": [
  {
   "cell_type": "markdown",
   "metadata": {},
   "source": [
    "Python Decorators (Advanced)\n",
    "------------------------------------------\n",
    "\n",
    "The decorator pattern allows behavior to be added to an individual object, dynamically, without affecting the behavior of other objects from the same class.\n",
    "\n",
    "The decorator pattern is often useful for adhering to the Single Responsibility Principle, as it allows functionality to be divided between classes with unique areas of concern. \n",
    "\n",
    "The decorator pattern also helps the developer to adhere to the DRY principle; Don't Repeat Yourself: Eliminate duplicated code.\n",
    "\n",
    "\n",
    "NOTE: Decorators are a meta-programming concept as their job is to \"generate\" code.\n"
   ]
  },
  {
   "cell_type": "code",
   "execution_count": 1,
   "metadata": {
    "scrolled": false
   },
   "outputs": [
    {
     "name": "stdout",
     "output_type": "stream",
     "text": [
      "MySillyClass.foo() called\n",
      "silly.foo = foo\n",
      "\n",
      "MySillyClass.bar() called\n",
      "silly.bar = bar\n",
      "\n",
      "MySillyClass.baz() called\n",
      "silly.baz = baz\n",
      "\n"
     ]
    }
   ],
   "source": [
    "\n",
    "class MySillyClass:\n",
    "    \"\"\"\n",
    "    A silly class; perfect for a tutorial\n",
    "    \"\"\"\n",
    "\n",
    "    def foo(self):\n",
    "        \"\"\"\n",
    "        Beautfil is better than ugly.\n",
    "        \"\"\"\n",
    "        print(\"MySillyClass.foo() called\")\n",
    "        return \"foo\"\n",
    "\n",
    "    def bar(self):\n",
    "        \"\"\"\n",
    "        Explicit is better than implicit.\n",
    "        \"\"\"\n",
    "        print(\"MySillyClass.bar() called\")\n",
    "        return \"bar\"\n",
    "\n",
    "    def baz(self):\n",
    "        \"\"\"\n",
    "        Simple is better than complex.\n",
    "        \"\"\"\n",
    "        print(\"MySillyClass.baz() called\")\n",
    "        return \"baz\"\n",
    "    \n",
    "\n",
    "silly = MySillyClass()\n",
    "print(f\"silly.foo = {silly.foo()}\\n\")\n",
    "print(f\"silly.bar = {silly.bar()}\\n\")\n",
    "print(f\"silly.baz = {silly.baz()}\\n\")\n"
   ]
  },
  {
   "cell_type": "markdown",
   "metadata": {},
   "source": [
    "\n",
    "Lets have a quick look at the documentation for our silly class, later, you'll see why this is important.\n"
   ]
  },
  {
   "cell_type": "code",
   "execution_count": 2,
   "metadata": {
    "scrolled": false
   },
   "outputs": [
    {
     "name": "stdout",
     "output_type": "stream",
     "text": [
      "Help on class MySillyClass in module __main__:\n",
      "\n",
      "class MySillyClass(builtins.object)\n",
      " |  A silly class; perfect for a tutorial\n",
      " |  \n",
      " |  Methods defined here:\n",
      " |  \n",
      " |  bar(self)\n",
      " |      Explicit is better than implicit.\n",
      " |  \n",
      " |  baz(self)\n",
      " |      Simple is better than complex.\n",
      " |  \n",
      " |  foo(self)\n",
      " |      Beautfil is better than ugly.\n",
      " |  \n",
      " |  ----------------------------------------------------------------------\n",
      " |  Data descriptors defined here:\n",
      " |  \n",
      " |  __dict__\n",
      " |      dictionary for instance variables (if defined)\n",
      " |  \n",
      " |  __weakref__\n",
      " |      list of weak references to the object (if defined)\n",
      "\n"
     ]
    }
   ],
   "source": [
    "\n",
    "help(MySillyClass)\n"
   ]
  },
  {
   "cell_type": "markdown",
   "metadata": {},
   "source": [
    "\n",
    "The silly class contains duplicate code - each of its methods starts with the same line - printing the name of the method.\n",
    "\n",
    "Using a method decorator is a neat solution we can adopt to remove this duplicated code:\n"
   ]
  },
  {
   "cell_type": "code",
   "execution_count": 3,
   "metadata": {
    "scrolled": false
   },
   "outputs": [
    {
     "name": "stdout",
     "output_type": "stream",
     "text": [
      "MySillyClass.foo\n",
      "silly.foo = foo\n",
      "\n",
      "MySillyClass.bar\n",
      "silly.bar = bar\n",
      "\n",
      "MySillyClass.baz\n",
      "silly.baz = baz\n",
      "\n"
     ]
    }
   ],
   "source": [
    "\n",
    "def my_decorator(func):\n",
    "    \"\"\"\n",
    "    Decorator to add information about which function was called\n",
    "    \"\"\"\n",
    "    def wrapper(*args, **kwargs):\n",
    "        print(f\"{func.__qualname__}\")\n",
    "        return func(*args, **kwargs)\n",
    "    return wrapper\n",
    "\n",
    "\n",
    "class MySillyClass:\n",
    "    \"\"\"\n",
    "    A silly class; perfect for a tutorial\n",
    "    \"\"\"\n",
    "\n",
    "    @my_decorator\n",
    "    def foo(self):\n",
    "        \"\"\"\n",
    "        Beautfil is better than ugly.\n",
    "        \"\"\"\n",
    "        return \"foo\"\n",
    "\n",
    "    @my_decorator\n",
    "    def bar(self):\n",
    "        \"\"\"\n",
    "        Explicit is better than implicit.\n",
    "        \"\"\"\n",
    "        return \"bar\"\n",
    "\n",
    "    @my_decorator\n",
    "    def baz(self):\n",
    "        \"\"\"\n",
    "        Simple is better than complex.\n",
    "        \"\"\"\n",
    "        return \"baz\"\n",
    "    \n",
    "\n",
    "silly = MySillyClass()\n",
    "print(f\"silly.foo = {silly.foo()}\\n\")\n",
    "print(f\"silly.bar = {silly.bar()}\\n\")\n",
    "print(f\"silly.baz = {silly.baz()}\\n\")\n"
   ]
  },
  {
   "cell_type": "markdown",
   "metadata": {},
   "source": [
    "\n",
    "Lets have another quick look at the documentation for our silly class:\n"
   ]
  },
  {
   "cell_type": "code",
   "execution_count": 4,
   "metadata": {},
   "outputs": [
    {
     "name": "stdout",
     "output_type": "stream",
     "text": [
      "Help on class MySillyClass in module __main__:\n",
      "\n",
      "class MySillyClass(builtins.object)\n",
      " |  A silly class; perfect for a tutorial\n",
      " |  \n",
      " |  Methods defined here:\n",
      " |  \n",
      " |  bar = wrapper(*args, **kwargs)\n",
      " |  \n",
      " |  baz = wrapper(*args, **kwargs)\n",
      " |  \n",
      " |  foo = wrapper(*args, **kwargs)\n",
      " |  \n",
      " |  ----------------------------------------------------------------------\n",
      " |  Data descriptors defined here:\n",
      " |  \n",
      " |  __dict__\n",
      " |      dictionary for instance variables (if defined)\n",
      " |  \n",
      " |  __weakref__\n",
      " |      list of weak references to the object (if defined)\n",
      "\n"
     ]
    }
   ],
   "source": [
    "\n",
    "help(MySillyClass)\n"
   ]
  },
  {
   "cell_type": "markdown",
   "metadata": {},
   "source": [
    "\n",
    "What's happened!? ...That's probably not what you expected!\n",
    "\n",
    "The reason is that the decorated method has lost it's original metadata. Metadata for a Python object is the built-in stuff such as:\n",
    "__name__, __doc__, __module__, __repr__, __str__ etc...\n",
    "\n",
    "What we are seeing here is the metadata for the wrapper function - which has been defined inside our decorator. So how do you get the correct metadata back?\n",
    "\n",
    "Thankfully, this is Python, and the answer is simple, you rely on the standard functools module which has a useful function called wraps. This is actually just another decorator which works by copying the metadata from your wrapped function over to the wrapper function.\n",
    "\n",
    "Let's modify our decorator to fix this problem...\n"
   ]
  },
  {
   "cell_type": "code",
   "execution_count": 5,
   "metadata": {},
   "outputs": [
    {
     "name": "stdout",
     "output_type": "stream",
     "text": [
      "Help on class MySillyClass in module __main__:\n",
      "\n",
      "class MySillyClass(builtins.object)\n",
      " |  A silly class; perfect for a tutorial\n",
      " |  \n",
      " |  Methods defined here:\n",
      " |  \n",
      " |  bar(self)\n",
      " |      Explicit is better than implicit.\n",
      " |  \n",
      " |  baz(self)\n",
      " |      Simple is better than complex.\n",
      " |  \n",
      " |  foo(self)\n",
      " |      Beautfil is better than ugly.\n",
      " |  \n",
      " |  ----------------------------------------------------------------------\n",
      " |  Data descriptors defined here:\n",
      " |  \n",
      " |  __dict__\n",
      " |      dictionary for instance variables (if defined)\n",
      " |  \n",
      " |  __weakref__\n",
      " |      list of weak references to the object (if defined)\n",
      "\n",
      "None\n"
     ]
    }
   ],
   "source": [
    "\n",
    "import functools\n",
    "\n",
    "\n",
    "def my_decorator(func):\n",
    "    \"\"\"\n",
    "    Decorator to add information about which function was called\n",
    "    \"\"\"\n",
    "    @functools.wraps(func) ####### NOTICE THIS NEW LINE\n",
    "    def wrapper(*args, **kwargs):\n",
    "        print(f\"{func.__qualname__}\")\n",
    "        return func(*args, **kwargs)\n",
    "    return wrapper\n",
    "\n",
    "\n",
    "class MySillyClass:\n",
    "    \"\"\"\n",
    "    A silly class; perfect for a tutorial\n",
    "    \"\"\"\n",
    "\n",
    "    @my_decorator\n",
    "    def foo(self):\n",
    "        \"\"\"\n",
    "        Beautfil is better than ugly.\n",
    "        \"\"\"\n",
    "        return \"foo\"\n",
    "\n",
    "    @my_decorator\n",
    "    def bar(self):\n",
    "        \"\"\"\n",
    "        Explicit is better than implicit.\n",
    "        \"\"\"\n",
    "        return \"bar\"\n",
    "\n",
    "    @my_decorator\n",
    "    def baz(self):\n",
    "        \"\"\"\n",
    "        Simple is better than complex.\n",
    "        \"\"\"\n",
    "        return \"baz\"\n",
    "\n",
    "    \n",
    "print(help(MySillyClass))"
   ]
  },
  {
   "cell_type": "markdown",
   "metadata": {},
   "source": [
    "\n",
    "Now that we've managed to fix our simple decorator it's time to look into some more advanced usage.\n",
    "\n",
    "Consider the scenario that we've built a whole bunch of classes that live in different modules across our codebase. They are all relying on our decorator, but there's one problem. We've moved from using print to using loggers, yet our decorator is still using print to add information!\n",
    "\n",
    "For example, if we configure the root logger in our Python process:\n"
   ]
  },
  {
   "cell_type": "code",
   "execution_count": 6,
   "metadata": {},
   "outputs": [],
   "source": [
    "\n",
    "# Configure the root logger:\n",
    "import logging\n",
    "import sys\n",
    "LOGGER_CONFIG_FORMAT = \"[%(asctime)s] [%(name)s] %(levelname)-5s: %(message)s\"\n",
    "LOGGER_CONFIG_DATEFMT = \"%Y-%m-%d %H:%M:%S\"\n",
    "LOGGER_CONFIG_STREAM = sys.stdout\n",
    "logging.basicConfig(\n",
    "    level=logging.DEBUG,\n",
    "    format=LOGGER_CONFIG_FORMAT,\n",
    "    datefmt=LOGGER_CONFIG_DATEFMT,\n",
    "    stream=LOGGER_CONFIG_STREAM)\n"
   ]
  },
  {
   "cell_type": "code",
   "execution_count": 7,
   "metadata": {},
   "outputs": [],
   "source": [
    "\n",
    "# And we create a logger for our silly class:\n",
    "SILLY_LOGGER = logging.getLogger(\"SILLY\")\n"
   ]
  },
  {
   "cell_type": "markdown",
   "metadata": {},
   "source": [
    "\n",
    "Our silly class wants to use the SILLY logger, yet our decorator is hard-coded to use print to output some information.\n",
    "\n",
    "Let's modify our decorator....\n"
   ]
  },
  {
   "cell_type": "code",
   "execution_count": 8,
   "metadata": {},
   "outputs": [],
   "source": [
    "import functools\n",
    "\n",
    "\n",
    "def my_decorator(logger):\n",
    "    \"\"\"\n",
    "    Decorate a function using a specific logger\n",
    "    \"\"\"\n",
    "    def decorate(func):\n",
    "        \"\"\"\n",
    "        Decorator to add information about which function was called\n",
    "        \"\"\"\n",
    "        @functools.wraps(func)\n",
    "        def wrapper(*args, **kwargs):\n",
    "            logger.info(\"%s\", func.__qualname__)\n",
    "            return func(*args, **kwargs)\n",
    "        return wrapper\n",
    "    return decorate\n",
    "\n",
    "\n",
    "class MySillyClass:\n",
    "    \"\"\"\n",
    "    A silly class; perfect for a tutorial\n",
    "    \"\"\"\n",
    "\n",
    "    @my_decorator(SILLY_LOGGER)\n",
    "    def foo(self):\n",
    "        \"\"\"\n",
    "        Beautfil is better than ugly.\n",
    "        \"\"\"\n",
    "        return \"foo\"\n",
    "\n",
    "    @my_decorator(SILLY_LOGGER)\n",
    "    def bar(self):\n",
    "        \"\"\"\n",
    "        Explicit is better than implicit.\n",
    "        \"\"\"\n",
    "        return \"bar\"\n",
    "\n",
    "    @my_decorator(SILLY_LOGGER)\n",
    "    def baz(self):\n",
    "        \"\"\"\n",
    "        Simple is better than complex.\n",
    "        \"\"\"\n",
    "        return \"baz\"\n"
   ]
  },
  {
   "cell_type": "code",
   "execution_count": 9,
   "metadata": {},
   "outputs": [
    {
     "name": "stdout",
     "output_type": "stream",
     "text": [
      "[2019-08-09 15:49:53] [SILLY] INFO : MySillyClass.foo\n",
      "silly.foo = foo\n",
      "\n",
      "[2019-08-09 15:49:53] [SILLY] INFO : MySillyClass.bar\n",
      "silly.bar = bar\n",
      "\n",
      "[2019-08-09 15:49:53] [SILLY] INFO : MySillyClass.baz\n",
      "silly.baz = baz\n",
      "\n"
     ]
    }
   ],
   "source": [
    "\n",
    "# Create a new instance of our silly class and invoke it's methods:\n",
    "silly = MySillyClass()\n",
    "print(f\"silly.foo = {silly.foo()}\\n\")\n",
    "print(f\"silly.bar = {silly.bar()}\\n\")\n",
    "print(f\"silly.baz = {silly.baz()}\\n\")\n"
   ]
  },
  {
   "cell_type": "markdown",
   "metadata": {},
   "source": [
    "\n",
    "Looking good. Now the decorator is using a logger rather than print, but what if we have some areas of our codebase which haven't configured a logger? The decorator should always fallback to a default value, for example:\n"
   ]
  },
  {
   "cell_type": "code",
   "execution_count": 10,
   "metadata": {},
   "outputs": [],
   "source": [
    "\n",
    "import logging\n",
    "\n",
    "def my_decorator(logger=logging.getLogger(\"DEFAULT\")):\n",
    "    \"\"\"\n",
    "    Decorate a function using a specific logger\n",
    "    \"\"\"\n",
    "    def decorate(func):\n",
    "        \"\"\"\n",
    "        Decorator to add information about which function was called\n",
    "        \"\"\"\n",
    "        @functools.wraps(func)\n",
    "        def wrapper(*args, **kwargs):\n",
    "            logger.info(\"%s\", func.__qualname__)\n",
    "            return func(*args, **kwargs)\n",
    "        return wrapper\n",
    "    return decorate\n"
   ]
  },
  {
   "cell_type": "markdown",
   "metadata": {},
   "source": [
    "\n",
    "Let's consider the original implementation of our class, where we did not have to specify a logger to the decorator:\n"
   ]
  },
  {
   "cell_type": "code",
   "execution_count": 11,
   "metadata": {},
   "outputs": [],
   "source": [
    "\n",
    "class MySillyClass:\n",
    "    \"\"\"\n",
    "    A silly class; perfect for a tutorial\n",
    "    \"\"\"\n",
    "\n",
    "    @my_decorator\n",
    "    def foo(self):\n",
    "        \"\"\"\n",
    "        Beautfil is better than ugly.\n",
    "        \"\"\"\n",
    "        return \"foo\"\n",
    "\n",
    "    @my_decorator\n",
    "    def bar(self):\n",
    "        \"\"\"\n",
    "        Explicit is better than implicit.\n",
    "        \"\"\"\n",
    "        return \"bar\"\n",
    "\n",
    "    @my_decorator\n",
    "    def baz(self):\n",
    "        \"\"\"\n",
    "        Simple is better than complex.\n",
    "        \"\"\"\n",
    "        return \"baz\"\n"
   ]
  },
  {
   "cell_type": "code",
   "execution_count": 12,
   "metadata": {},
   "outputs": [
    {
     "data": {
      "text/plain": [
       "<function __main__.my_decorator.<locals>.decorate.<locals>.wrapper>"
      ]
     },
     "execution_count": 12,
     "metadata": {},
     "output_type": "execute_result"
    }
   ],
   "source": [
    "\n",
    "# Lets create an instance and call one of the methods...\n",
    "silly = MySillyClass()\n",
    "silly.foo()\n"
   ]
  },
  {
   "cell_type": "markdown",
   "metadata": {},
   "source": [
    "\n",
    "##### Confused? I'm going to try to explain what's going on:\n",
    "\n",
    "We've now instructed Python to get a method named \"my_decorator\", and use that method to decorate our function.\n",
    "\n",
    "However, we've modified \"my_decorator\" so it no longer decorates a function, but returns to us a function (named decorate) that is able to decorate our function. In making this change, my_decorator is no longer able to do the decorating itself because it doesn't know about the function being decorated; how can it? It no longer has an arg for the function-to-be-wrapped.\n",
    "\n",
    "\n",
    "##### Why no Exception?\n",
    "\n",
    "If you've been paying very close attention you'll notice that the \"decorate\" function takes an arg named *func* yet we are not passing this arg! So why is there no TypeError Exception being raised?\n",
    "\n",
    "The reason is simple: remember that Python will always send self as the first arg to any bound class method, in other words:\n",
    "\n",
    "silly.foo() == Silly.foo(silly)\n",
    "\n",
    "In our case, what we are actually calling is decorate(silly), which returns to us a function called \"wrapper\", hence the funny error seen above.\n",
    "\n",
    "To further explain this, let's decorate a global function in the same way:\n",
    "\n"
   ]
  },
  {
   "cell_type": "code",
   "execution_count": 13,
   "metadata": {
    "scrolled": true
   },
   "outputs": [
    {
     "ename": "TypeError",
     "evalue": "decorate() missing 1 required positional argument: 'func'",
     "output_type": "error",
     "traceback": [
      "\u001b[0;31m---------------------------------------------------------------------------\u001b[0m",
      "\u001b[0;31mTypeError\u001b[0m                                 Traceback (most recent call last)",
      "\u001b[0;32m<ipython-input-13-a6b584a97f5a>\u001b[0m in \u001b[0;36m<module>\u001b[0;34m\u001b[0m\n\u001b[1;32m      4\u001b[0m \u001b[0;34m\u001b[0m\u001b[0m\n\u001b[1;32m      5\u001b[0m \u001b[0;31m# Try calling the global function...\u001b[0m\u001b[0;34m\u001b[0m\u001b[0;34m\u001b[0m\u001b[0;34m\u001b[0m\u001b[0m\n\u001b[0;32m----> 6\u001b[0;31m \u001b[0msome_global_func\u001b[0m\u001b[0;34m(\u001b[0m\u001b[0;34m)\u001b[0m\u001b[0;34m\u001b[0m\u001b[0;34m\u001b[0m\u001b[0m\n\u001b[0m",
      "\u001b[0;31mTypeError\u001b[0m: decorate() missing 1 required positional argument: 'func'"
     ]
    }
   ],
   "source": [
    "@my_decorator\n",
    "def some_global_func():\n",
    "    print(\"I AM A GLOBAL\")\n",
    "\n",
    "# Try calling the global function...\n",
    "some_global_func()"
   ]
  },
  {
   "cell_type": "markdown",
   "metadata": {},
   "source": [
    "\n",
    "Now you'll see that we get a TypeError telling us that *func* was not passed - because global functions are not bound methods, so no default self arg is passed!\n",
    "\n",
    "Don't be worried if you're really confused by now because it's fairly tricky to understand and even trickier to explain - so please bear with me, and try re-reading, and even playing around with the code yourself.\n",
    "\n",
    "\n",
    "##### How can this be fixed???\n",
    "\n",
    "Using another nifty, (but slightly confusing) Python standard library concept named partial!\n",
    "\n",
    "Have a look at this new decorator implementation and I'll try to explain how it works:\n"
   ]
  },
  {
   "cell_type": "code",
   "execution_count": 14,
   "metadata": {},
   "outputs": [
    {
     "name": "stdout",
     "output_type": "stream",
     "text": [
      "[2019-08-09 15:50:00] [DEFAULT] DEBUG: some_global_func\n",
      "I AM A GLOBAL\n"
     ]
    }
   ],
   "source": [
    "\n",
    "from functools import partial\n",
    "\n",
    "\n",
    "def my_decorator(func=None, logger=logging.getLogger(\"DEFAULT\")):\n",
    "    # Here we are saying if the function is not passed, return a partial\n",
    "    # function of this decorator, which can then be used to decorate!\n",
    "    if not func:\n",
    "        return partial(my_decorator, logger=logger)\n",
    "    @functools.wraps(func)\n",
    "    def wrapper(*args, **kwargs):\n",
    "        logger.debug(f\"{func.__qualname__}\")\n",
    "        return func(*args, **kwargs)\n",
    "    return wrapper\n",
    "\n",
    "\n",
    "@my_decorator\n",
    "def some_global_func():\n",
    "    print(\"I AM A GLOBAL\")\n",
    "\n",
    "# Try calling the global function...\n",
    "some_global_func()\n"
   ]
  },
  {
   "cell_type": "markdown",
   "metadata": {},
   "source": [
    "\n",
    "##### How does this work?\n",
    "\n",
    "The best way to show how this works is by writing out some simple Python:\n"
   ]
  },
  {
   "cell_type": "code",
   "execution_count": 15,
   "metadata": {},
   "outputs": [
    {
     "name": "stdout",
     "output_type": "stream",
     "text": [
      "[2019-08-09 15:50:02] [DEFAULT] DEBUG: another_global_func\n",
      "ANOTHER GLOBAL FUNC\n"
     ]
    }
   ],
   "source": [
    "\n",
    "# Start with an un-decorated simple function:\n",
    "def another_global_func():\n",
    "    print(\"ANOTHER GLOBAL FUNC\")\n",
    "\n",
    "# Call our decorator function to get a partial decorator.\n",
    "# This will return a partial function because we did not specify\n",
    "# a value for the func argument when calling my_decorator():\n",
    "partial_decorator = my_decorator()\n",
    "\n",
    "# Now we can \"manually\" decorate our un-decorated function by \n",
    "# simply calling the partial function and passing in the \n",
    "# \"function-to-decorate\":\n",
    "decorated_function = partial_decorator(another_global_func)\n",
    "\n",
    "# Finally, lets call the decorated version:\n",
    "decorated_function()\n"
   ]
  },
  {
   "cell_type": "markdown",
   "metadata": {},
   "source": [
    "\n",
    "\n",
    "## Summary:\n",
    "\n",
    "We've covered both simple and advanced decorators, hopefully you've now got a good understanding of what is going on as opposed to considering these concepts \"magic\"!\n",
    "\n",
    "I'll finish off by giving you some boiler-plate code for both types of decorator covered by this tutorial. Feel free to use these templates to roll your own decorators.\n"
   ]
  },
  {
   "cell_type": "code",
   "execution_count": 16,
   "metadata": {},
   "outputs": [],
   "source": [
    "\n",
    "def simple_decorator(func):\n",
    "    \"\"\"\n",
    "    Boiler plate code for a simple decorator\n",
    "    \"\"\"\n",
    "    @functools.wraps(func)\n",
    "    def wrapper(*args, **kwargs):\n",
    "        # ADD CODE BEFORE CALLING DECORATED FUNCTION\n",
    "        result = func(*args, **kwargs)\n",
    "        # ADD CODE AFTER CALLING DECORATED FUNCTION\n",
    "        return result\n",
    "    return wrapper\n",
    "\n",
    "\n",
    "def advanced_decorator(func=None, logger=logging.getLogger(\"DEFAULT\")):\n",
    "    \"\"\"\n",
    "    Boiler plate code for a decorator which takes optional arguments\n",
    "    \"\"\"\n",
    "    if not func:\n",
    "        return partial(my_decorator, logger=logger)\n",
    "    @functools.wraps(func)\n",
    "    def wrapper(*args, **kwargs):\n",
    "        # ADD CODE BEFORE CALLING DECORATED FUNCTION\n",
    "        result = func(*args, **kwargs)\n",
    "        # ADD CODE AFTER CALLING DECORATED FUNCTION\n",
    "        return result\n",
    "    return wrapper\n"
   ]
  }
 ],
 "metadata": {
  "kernelspec": {
   "display_name": "Python 3",
   "language": "python",
   "name": "python3"
  },
  "language_info": {
   "codemirror_mode": {
    "name": "ipython",
    "version": 3
   },
   "file_extension": ".py",
   "mimetype": "text/x-python",
   "name": "python",
   "nbconvert_exporter": "python",
   "pygments_lexer": "ipython3",
   "version": "3.7.3"
  }
 },
 "nbformat": 4,
 "nbformat_minor": 2
}
